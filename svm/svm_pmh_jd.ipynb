{
 "cells": [
  {
   "cell_type": "code",
   "execution_count": 5,
   "metadata": {
    "collapsed": false
   },
   "outputs": [],
   "source": [
    "##############################################################################\n",
    "# Parameter estimation using particle Metropolis-Hastings \n",
    "# in a stochastic volatility model\n",
    "#\n",
    "# Johan Dahlin <liu (at) johandahlin.com.nospam>\n",
    "# Documentation at https://github.com/compops/pmh-tutorial\n",
    "# Published under GNU General Public License\n",
    "##############################################################################\n",
    "from __future__ import print_function, division\n",
    "import matplotlib.pylab as plt\n",
    "import quandl\n",
    "import numpy as np\n",
    "\n",
    "from helpers.stateEstimation import particleFilterSVmodel\n",
    "from helpers.parameterEstimation import particleMetropolisHastingsSVModel\n",
    "\n",
    "# Set the random seed to replicate results in tutorial\n",
    "np.random.seed(10)"
   ]
  },
  {
   "cell_type": "markdown",
   "metadata": {},
   "source": [
    "### Load data"
   ]
  },
  {
   "cell_type": "code",
   "execution_count": 6,
   "metadata": {
    "collapsed": false
   },
   "outputs": [],
   "source": [
    "data = quandl.get(\"NASDAQOMX/OMXS30\", trim_start=\"2012-01-02\", trim_end=\"2014-01-02\")\n",
    "logReturns = 100 * np.diff(np.log(data['Index Value']))\n",
    "noLogReturns = len(logReturns)"
   ]
  },
  {
   "cell_type": "markdown",
   "metadata": {},
   "source": [
    "### Particle Metropolis Hastings algorithm"
   ]
  },
  {
   "cell_type": "code",
   "execution_count": 7,
   "metadata": {
    "collapsed": false
   },
   "outputs": [
    {
     "ename": "NameError",
     "evalue": "global name 'particleFilterSVmodel' is not defined",
     "output_type": "error",
     "traceback": [
      "\u001b[1;31m---------------------------------------------------------------------------\u001b[0m",
      "\u001b[1;31mNameError\u001b[0m                                 Traceback (most recent call last)",
      "\u001b[1;32m<ipython-input-7-fb8b158c4c9e>\u001b[0m in \u001b[0;36m<module>\u001b[1;34m()\u001b[0m\n\u001b[0;32m     17\u001b[0m logVolatilityEst, parameterTrace = particleMetropolisHastingsSVModel(\n\u001b[0;32m     18\u001b[0m     \u001b[0mlogReturns\u001b[0m\u001b[1;33m,\u001b[0m \u001b[0minitialTheta\u001b[0m\u001b[1;33m,\u001b[0m \u001b[0mnoParticles\u001b[0m\u001b[1;33m,\u001b[0m\u001b[1;33m\u001b[0m\u001b[0m\n\u001b[1;32m---> 19\u001b[1;33m     particleFilterSVmodel, noIterations, stepSize)\n\u001b[0m\u001b[0;32m     20\u001b[0m \u001b[1;33m\u001b[0m\u001b[0m\n\u001b[0;32m     21\u001b[0m \u001b[1;31m##############################################################################\u001b[0m\u001b[1;33m\u001b[0m\u001b[1;33m\u001b[0m\u001b[0m\n",
      "\u001b[1;32mC:\\Users\\Gebruiker\\Documents\\SMC2017\\helpers\\parameterEstimation.py\u001b[0m in \u001b[0;36mparticleMetropolisHastingsSVModel\u001b[1;34m(observations, initialTheta, noParticles, particleFilter, noIterations, stepSize)\u001b[0m\n\u001b[0;32m     84\u001b[0m     \u001b[1;31m# Set the initial parameter and estimate the initial log-likelihood\u001b[0m\u001b[1;33m\u001b[0m\u001b[1;33m\u001b[0m\u001b[0m\n\u001b[0;32m     85\u001b[0m     \u001b[0mtheta\u001b[0m\u001b[1;33m[\u001b[0m\u001b[1;36m0\u001b[0m\u001b[1;33m,\u001b[0m \u001b[1;33m:\u001b[0m\u001b[1;33m]\u001b[0m \u001b[1;33m=\u001b[0m \u001b[0minitialTheta\u001b[0m\u001b[1;33m\u001b[0m\u001b[0m\n\u001b[1;32m---> 86\u001b[1;33m     \u001b[1;33m(\u001b[0m\u001b[0mxHatFiltered\u001b[0m\u001b[1;33m[\u001b[0m\u001b[1;36m0\u001b[0m\u001b[1;33m,\u001b[0m \u001b[1;33m:\u001b[0m\u001b[1;33m]\u001b[0m\u001b[1;33m,\u001b[0m \u001b[0mlogLikelihood\u001b[0m\u001b[1;33m[\u001b[0m\u001b[1;36m0\u001b[0m\u001b[1;33m]\u001b[0m\u001b[1;33m)\u001b[0m \u001b[1;33m=\u001b[0m \u001b[0mparticleFilterSVmodel\u001b[0m\u001b[1;33m(\u001b[0m\u001b[0mobservations\u001b[0m\u001b[1;33m,\u001b[0m \u001b[0mtheta\u001b[0m\u001b[1;33m[\u001b[0m\u001b[1;36m0\u001b[0m\u001b[1;33m,\u001b[0m \u001b[1;33m:\u001b[0m\u001b[1;33m]\u001b[0m\u001b[1;33m,\u001b[0m \u001b[0mnoParticles\u001b[0m\u001b[1;33m)\u001b[0m\u001b[1;33m\u001b[0m\u001b[0m\n\u001b[0m\u001b[0;32m     87\u001b[0m \u001b[1;33m\u001b[0m\u001b[0m\n\u001b[0;32m     88\u001b[0m     \u001b[1;32mfor\u001b[0m \u001b[0mk\u001b[0m \u001b[1;32min\u001b[0m \u001b[0mrange\u001b[0m\u001b[1;33m(\u001b[0m\u001b[1;36m1\u001b[0m\u001b[1;33m,\u001b[0m \u001b[0mnoIterations\u001b[0m\u001b[1;33m)\u001b[0m\u001b[1;33m:\u001b[0m\u001b[1;33m\u001b[0m\u001b[0m\n",
      "\u001b[1;31mNameError\u001b[0m: global name 'particleFilterSVmodel' is not defined"
     ]
    }
   ],
   "source": [
    "##############################################################################\n",
    "# PMH\n",
    "##############################################################################\n",
    "initialTheta = np.array((0.0, 0.9, 0.2))    # Inital guess of theta = (mu, phi, sigmav)\n",
    "\n",
    "# noParticles = 500                           # Choose noParticles ~ noLogReturns\n",
    "# noBurnInIterations = 2500\n",
    "# noIterations = 7500\n",
    "\n",
    "noParticles = 50                          # Choose noParticles ~ noLogReturns\n",
    "noBurnInIterations = 250\n",
    "noIterations = 750\n",
    "\n",
    "\n",
    "stepSize = np.diag((0.10**2, 0.01**2, 0.05**2))\n",
    "\n",
    "logVolatilityEst, parameterTrace = particleMetropolisHastingsSVModel(\n",
    "    logReturns, initialTheta, noParticles, \n",
    "    particleFilterSVmodel, noIterations, stepSize)\n",
    "\n",
    "##############################################################################\n",
    "# Plot the results\n",
    "##############################################################################\n",
    "noBins = int(np.floor(np.sqrt(noIterations - noBurnInIterations)))\n",
    "grid = np.arange(noBurnInIterations, noIterations, 1)\n",
    "logVolatilityEst = logVolatilityEst[noBurnInIterations:noIterations, :]\n",
    "parameterEst = parameterTrace[noBurnInIterations:noIterations, :]"
   ]
  },
  {
   "cell_type": "markdown",
   "metadata": {},
   "source": [
    "### Plot results"
   ]
  },
  {
   "cell_type": "code",
   "execution_count": null,
   "metadata": {
    "collapsed": false
   },
   "outputs": [],
   "source": [
    "plt.figure(1)\n",
    "\n",
    "plt.subplot(5, 3, (1, 3))\n",
    "plt.plot(logReturns, color='#1B9E77', linewidth=1.5)\n",
    "plt.xlabel(\"time\")\n",
    "plt.ylabel(\"log-return\")\n",
    "\n",
    "plt.subplot(5, 3, (4, 6))\n",
    "plt.plot(np.mean(logVolatilityEst, axis=0), color='#D95F02', linewidth=1.5)\n",
    "plt.xlabel(\"time\")\n",
    "plt.ylabel(\"log-volatility estimate\")\n",
    "\n",
    "# Histogram of marginal parameter posterior of mu\n",
    "plt.subplot(5, 3, 7)\n",
    "plt.hist(parameterEst[:, 0], noBins, normed=1, facecolor='#7570B3')\n",
    "plt.xlabel(\"mu\")\n",
    "plt.ylabel(\"posterior density estimate\")\n",
    "plt.axvline(np.mean(parameterEst[:, 0]), linewidth=1.5, color='k')\n",
    "\n",
    "# Trace plot of mu\n",
    "plt.subplot(5, 3, 8)\n",
    "plt.plot(grid, parameterEst[:, 0], color='#7570B3')\n",
    "plt.xlabel(\"iteration\")\n",
    "plt.ylabel(\"trace of mu\")\n",
    "plt.axhline(np.mean(parameterEst[:, 0]), linewidth=1.5, color='k')\n",
    "\n",
    "# Autocorrelation function for mu\n",
    "plt.subplot(5, 3, 9)\n",
    "detrended_trace = parameterEst[:, 0] - np.mean(parameterEst[:, 0])\n",
    "macf = np.correlate(detrended_trace, detrended_trace, mode='full')\n",
    "idx = int(macf.size/2)\n",
    "macf = macf[idx:]\n",
    "macf = macf[0:100]\n",
    "macf /= macf[0]\n",
    "grid_acf = range(len(macf))\n",
    "plt.plot(grid_acf, macf, color='#7570B3')\n",
    "plt.xlabel(\"lag\")\n",
    "plt.ylabel(\"ACF of mu\")\n",
    "\n",
    "# Histogram of marginal parameter posterior of phi\n",
    "plt.subplot(5, 3, 10)\n",
    "plt.hist(parameterEst[:, 1], noBins, normed=1, facecolor='#E7298A')\n",
    "plt.xlabel(\"phi\")\n",
    "plt.ylabel(\"posterior density estimate\")\n",
    "plt.axvline(np.mean(parameterEst[:, 1]), linewidth=1.5, color='k')\n",
    "\n",
    "# Trace plot of phi\n",
    "plt.subplot(5, 3, 11)\n",
    "plt.plot(grid, parameterEst[:, 1], color='#E7298A')\n",
    "plt.xlabel(\"iteration\")\n",
    "plt.ylabel(\"trace of phi\")\n",
    "plt.axhline(np.mean(parameterEst[:, 1]), linewidth=1.5, color='k')\n",
    "\n",
    "# Autocorrelation function for phi\n",
    "plt.subplot(5, 3, 12)\n",
    "detrended_trace = parameterEst[:, 1] - np.mean(parameterEst[:, 1])\n",
    "macf = np.correlate(detrended_trace, detrended_trace, mode='full')\n",
    "idx = int(macf.size/2)\n",
    "macf = macf[idx:]\n",
    "macf = macf[0:100]\n",
    "macf /= macf[0]\n",
    "grid_acf = range(len(macf))\n",
    "plt.plot(grid_acf, macf, color='#E7298A')\n",
    "plt.xlabel(\"lag\")\n",
    "plt.ylabel(\"ACF of phi\")\n",
    "\n",
    "# Histogram of marginal parameter posterior of sigma\n",
    "plt.subplot(5, 3, 13)\n",
    "plt.hist(parameterEst[:, 2], noBins, normed=1, facecolor='#66A61E')\n",
    "plt.xlabel(\"sigmav\")\n",
    "plt.ylabel(\"posterior density estimate\")\n",
    "plt.axvline(np.mean(parameterEst[:, 2]), linewidth=1.5, color='k')\n",
    "\n",
    "# Trace plot of sigma\n",
    "plt.subplot(5, 3, 14)\n",
    "plt.plot(grid, parameterEst[:, 2], color='#66A61E')\n",
    "plt.xlabel(\"iteration\")\n",
    "plt.ylabel(\"trace of sigmav\")\n",
    "plt.axhline(np.mean(parameterEst[:, 2]), linewidth=1.5, color='k')\n",
    "\n",
    "# Autocorrelation function for sigma\n",
    "plt.subplot(5, 3, 15)\n",
    "detrended_trace = parameterEst[:, 2] - np.mean(parameterEst[:, 2])\n",
    "macf = np.correlate(detrended_trace, detrended_trace, mode='full')\n",
    "idx = int(macf.size/2)\n",
    "macf = macf[idx:]\n",
    "macf = macf[0:100]\n",
    "macf /= macf[0]\n",
    "grid_acf = range(len(macf))\n",
    "plt.plot(grid_acf, macf, color='#66A61E')\n",
    "plt.xlabel(\"lag\")\n",
    "plt.ylabel(\"ACF of sigmav\")\n",
    "\n",
    "plt.show()"
   ]
  },
  {
   "cell_type": "code",
   "execution_count": 43,
   "metadata": {
    "collapsed": false
   },
   "outputs": [
    {
     "data": {
      "text/plain": [
       "500"
      ]
     },
     "execution_count": 43,
     "metadata": {},
     "output_type": "execute_result"
    }
   ],
   "source": [
    "noLogReturns"
   ]
  }
 ],
 "metadata": {
  "kernelspec": {
   "display_name": "Python 2",
   "language": "python",
   "name": "python2"
  },
  "language_info": {
   "codemirror_mode": {
    "name": "ipython",
    "version": 2
   },
   "file_extension": ".py",
   "mimetype": "text/x-python",
   "name": "python",
   "nbconvert_exporter": "python",
   "pygments_lexer": "ipython2",
   "version": "2.7.9"
  }
 },
 "nbformat": 4,
 "nbformat_minor": 0
}
