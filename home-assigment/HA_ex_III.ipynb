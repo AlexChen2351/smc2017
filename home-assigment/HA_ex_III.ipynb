{
 "cells": [
  {
   "cell_type": "code",
   "execution_count": null,
   "metadata": {
    "collapsed": false
   },
   "outputs": [],
   "source": [
    "import numpy as np\n",
    "from scipy import stats\n",
    "from scipy import linalg\n",
    "import pandas as pd\n",
    "import math\n",
    "\n",
    "%matplotlib inline\n",
    "import matplotlib.pyplot as plt\n",
    "import seaborn as sns\n",
    "\n",
    "from tqdm import tqdm_notebook\n",
    "from numpy.random import randn, uniform, multivariate_normal\n",
    "\n",
    "sns.set_style()\n",
    "sns.set_style(\"ticks\")\n",
    "\n",
    "from __future__ import division"
   ]
  },
  {
   "cell_type": "markdown",
   "metadata": {},
   "source": [
    "## I. The stochastic volatility model\n",
    "\n",
    "Consider the stochastic volatility model\n",
    "\\begin{align}\n",
    "x_0 &\\sim \\mathcal{N}\\left(0,\\sigma^2\\right)\\\\\n",
    "x_t\\,|\\,x_{t - 1} &\\sim \\mathcal{N}\\left(x_{t}|\\phi x_{t - 1},\\,\\sigma^2\\right) \\\\\n",
    "y_t\\,|\\,x_t &\\sim \\mathcal{N}\\left(y_{t}|0,\\,\\beta^{2}\\exp(x_t)\\right) \\\\\n",
    "\\end{align}\n",
    "with parameter vector $\\theta = (\\phi,\\sigma, \\beta)$."
   ]
  },
  {
   "cell_type": "markdown",
   "metadata": {},
   "source": [
    "## II. Load data\n",
    "\n",
    "The data consists of T=500 observations of the scaled log-returns from the NASDAQ OMX Stockholm 30 Index\n",
    "during a two year period between January 2, 2012 and January 2, 2014."
   ]
  },
  {
   "cell_type": "code",
   "execution_count": null,
   "metadata": {
    "collapsed": false
   },
   "outputs": [],
   "source": [
    "data = pd.read_csv('seOMXlogreturns2012to2014.csv', \n",
    "                   header=None, names=['logreturn'])\n",
    "y = data.logreturn.values\n",
    "\n",
    "fig, ax = plt.subplots()\n",
    "ax.plot(y)"
   ]
  },
  {
   "cell_type": "markdown",
   "metadata": {},
   "source": [
    "## III. Inference in the stochastic volatility model"
   ]
  },
  {
   "cell_type": "markdown",
   "metadata": {},
   "source": [
    "### III.a Likelihood estimation with the bootstrap particle filter"
   ]
  },
  {
   "cell_type": "code",
   "execution_count": 50,
   "metadata": {
    "collapsed": false
   },
   "outputs": [],
   "source": [
    "theta = [0.98,0.16, float('nan')]\n",
    "\n",
    "def loglik_bpf(y, N=20, theta=[0.98,0.16,0.70], resample=True, logweights=True):\n",
    "    # Cumulatively build up log-likelihood\n",
    "    ll = 0.0\n",
    "    # Initialisation\n",
    "    samples = stats.norm.rvs(0, theta[1], N)\n",
    "    weights = 1 / N * np.ones((N,))\n",
    "    weights_normalized =  weights\n",
    "\n",
    "    # Determine the number of time steps\n",
    "    T = len(y)\n",
    "    # Loop through all time steps\n",
    "    for t in range(T):\n",
    "        # Resample\n",
    "        if resample:\n",
    "            # Randomly choose ancestors\n",
    "            ancestors = np.random.choice(samples, size=N, \n",
    "                                                     replace=True, p=weights_normalized)\n",
    "        else:\n",
    "            ancestors = samples\n",
    "        \n",
    "        # Propagate\n",
    "        samples = stats.norm.rvs(0, 1, N) * theta[1] + theta[0] * ancestors\n",
    "        \n",
    "        if logweights:\n",
    "            # Weight\n",
    "            weights = stats.norm.logpdf(y[t], loc=0, \n",
    "                                        scale=(theta[2] * np.exp(samples / 2)))\n",
    "            # Calculate the max of the weights\n",
    "            max_weights = np.max(weights)\n",
    "            # Subtract the max\n",
    "            weights = weights - max_weights\n",
    "            # Update log-likelihood\n",
    "            ll += max_weights + np.log(np.sum(np.exp(weights))) - np.log(N)\n",
    "\n",
    "            # Normalize weights to be probabilities\n",
    "            weights_normalized = np.exp(weights) / np.sum(np.exp(weights))\n",
    "        else:\n",
    "            # Weight\n",
    "            weights = stats.norm.pdf(y[t], loc=0, \n",
    "                                     scale=(theta[2] * np.exp(samples / 2)))\n",
    "            # Update log-likelihood\n",
    "            ll += np.log(np.sum(weights)) - np.log(N)\n",
    "\n",
    "            # Normalize weights to be probabilities\n",
    "            weights_normalized = weights / np.sum(weights)\n",
    "        \n",
    "    return ll"
   ]
  },
  {
   "cell_type": "markdown",
   "metadata": {},
   "source": [
    "### III.b Maximum likelihood estimation"
   ]
  },
  {
   "cell_type": "markdown",
   "metadata": {},
   "source": [
    "#### Log-Likelihood in function of $\\beta$\n",
    "\n",
    "Consider fixed values for $\\phi = 0.98$ and $\\sigma = 0.16$. "
   ]
  },
  {
   "cell_type": "code",
   "execution_count": 53,
   "metadata": {
    "collapsed": false
   },
   "outputs": [],
   "source": [
    "def simulate(N=500, T=500, resample=True):\n",
    "    ll = []\n",
    "    beta_count = len(np.arange(0.5, 2.25, 0.1))\n",
    "    theta = [0.98,0.16,float('nan')];\n",
    "    for beta in np.arange(0.5, 2.25, 0.1):\n",
    "        theta[2] = beta;\n",
    "        for i in range(10):\n",
    "            ll.append(loglik_bpf(y[:T], N, theta, resample))\n",
    "\n",
    "    ll = np.transpose(np.reshape(ll, (beta_count, 10)))\n",
    "    \n",
    "    return ll"
   ]
  },
  {
   "cell_type": "markdown",
   "metadata": {},
   "source": [
    "Plot log-likelihood function for $\\beta$ between 0.5 and 2.25."
   ]
  },
  {
   "cell_type": "code",
   "execution_count": 54,
   "metadata": {
    "collapsed": false
   },
   "outputs": [
    {
     "data": {
      "image/png": "[encoded data removed]",
      "text/plain": [
       "<matplotlib.figure.Figure at 0x21148a90>"
      ]
     },
     "metadata": {},
     "output_type": "display_data"
    }
   ],
   "source": [
    "fig, ax = plt.subplots(figsize=(10, 5))\n",
    "\n",
    "ax.boxplot(simulate(500, 500), labels=np.arange(0.5, 2.25, 0.1));"
   ]
  },
  {
   "cell_type": "markdown",
   "metadata": {},
   "source": [
    "#### Log-Likelihood in function of $\\phi$\n",
    "\n",
    "Consider fixed values $\\sigma = 0.16$ and $\\beta = 0.7$. "
   ]
  },
  {
   "cell_type": "code",
   "execution_count": null,
   "metadata": {
    "collapsed": false
   },
   "outputs": [],
   "source": [
    "def simulate(N=500, T=500, resample=True):\n",
    "    ll = []\n",
    "    phi_count = len(np.arange(0.905, 1.0, 0.01))\n",
    "    theta = [0.98,0.16,0.70];\n",
    "    for phi in np.arange(0.905, 1.0, 0.01):\n",
    "        theta[0] = phi;\n",
    "        for i in range(10):\n",
    "            ll.append(loglik_bpf(y[:T], N, theta, resample))\n",
    "    ll = np.transpose(np.reshape(ll, (phi_count, 10)))\n",
    "    \n",
    "    return ll"
   ]
  },
  {
   "cell_type": "code",
   "execution_count": null,
   "metadata": {
    "collapsed": false
   },
   "outputs": [],
   "source": [
    "fig, ax = plt.subplots(figsize=(10, 5))\n",
    "\n",
    "ax.boxplot(simulate(500, 500), labels=np.arange(.905, 1, 0.01));\n",
    "plt.tight_layout()\n",
    "fig.savefig('ll_phi.pdf')"
   ]
  },
  {
   "cell_type": "markdown",
   "metadata": {},
   "source": [
    "### III.c Bayesian inference with the Particle Metropolis-Hastings algorithm"
   ]
  },
  {
   "cell_type": "markdown",
   "metadata": {},
   "source": [
    "Set inverse gamma priors on the variance parameters \n",
    "$$\n",
    "\\begin{align}\n",
    "\\sigma^{2} &\\sim \\mathcal{IG}\\left(a=0.01, b=0.01 \\right)\\\\\n",
    "\\beta^{2} &\\sim \\mathcal{IG}\\left(a=0.01, b=0.01 \\right)\n",
    "\\end{align}\n",
    "$$\n",
    "and fix $\\phi=0.985$.\n",
    "\n",
    "A Gaussian random walk proposal is used $q(\\theta'\\,\\big|\\,\\theta[k - 1]) = \\mathcal{N}\\left(\\theta';\\,\\theta[k - 1], \\Sigma\\right)$ with appropriately chosen $\\Sigma$.\n"
   ]
  },
  {
   "cell_type": "code",
   "execution_count": null,
   "metadata": {
    "collapsed": true
   },
   "outputs": [],
   "source": [
    "def loglik_bpf(y, N, theta, resample=True, logweights=True):\n",
    "    # Cumulatively build up log-likelihood\n",
    "    ll = 0.0\n",
    "    \n",
    "    # Initialisation\n",
    "    phi = theta[0]\n",
    "    sigma = theta[1]\n",
    "    beta = theta[2]\n",
    "    \n",
    "    samples = stats.norm.rvs(0, np.power(sigma,2), N)\n",
    "    weights = 1 / N * np.ones((N,))\n",
    "    weights_normalized =  weights\n",
    "\n",
    "    # Determine the number of time steps\n",
    "    T = len(y)\n",
    "    # Loop through all time steps\n",
    "    for t in range(T):\n",
    "        # Resample\n",
    "        if resample:\n",
    "            # Randomly choose ancestors\n",
    "            ancestors = np.random.choice(samples, size=N, \n",
    "                                                     replace=True, p=weights_normalized)\n",
    "        else:\n",
    "            ancestors = samples\n",
    "        \n",
    "        # Propagate\n",
    "        samples = phi*ancestors+stats.norm.rvs(0, 1, N)*sigma\n",
    "        \n",
    "        if logweights:\n",
    "            # Weight\n",
    "            weights = stats.norm.logpdf(y[t], loc=0, \n",
    "                                        scale=(beta*np.exp(samples / 2)))\n",
    "            # Calculate the max of the weights\n",
    "            max_weights = np.max(weights)\n",
    "            # Subtract the max\n",
    "            weights = weights - max_weights\n",
    "            # Update log-likelihood\n",
    "            ll += max_weights + np.log(np.sum(np.exp(weights))) - np.log(N)\n",
    "\n",
    "            # Normalize weights to be probabilities\n",
    "            weights_normalized = np.exp(weights) / np.sum(np.exp(weights))\n",
    "        else:\n",
    "            # Weight\n",
    "            weights = stats.norm.pdf(y[t], loc=0, \n",
    "                                     scale=(beta*np.exp(samples/2)))\n",
    "            # Update log-likelihood\n",
    "            ll += np.log(np.sum(weights)) - np.log(N)\n",
    "\n",
    "            # Normalize weights to be probabilities\n",
    "            weights_normalized = weights / np.sum(weights)\n",
    "        \n",
    "    return ll"
   ]
  },
  {
   "cell_type": "code",
   "execution_count": null,
   "metadata": {
    "collapsed": true
   },
   "outputs": [],
   "source": [
    "def invgamma_logpdf(x,a,b):\n",
    "    out = a*np.log(b) - np.log(math.gamma(a)) - (a+1)*np.log(x) - b/x;\n",
    "    return out"
   ]
  },
  {
   "cell_type": "code",
   "execution_count": 71,
   "metadata": {
    "collapsed": true
   },
   "outputs": [],
   "source": [
    "def particle_metropolis_hastings(y, theta_init, M, N, Sigma):\n",
    "    \n",
    "    # Fixed parameter\n",
    "    phi = 0.985\n",
    "    a = 0.01\n",
    "    b = 0.01\n",
    "    \n",
    "    # Allocate matrices\n",
    "    theta = np.zeros((M+1,3))\n",
    "    theta[:,0] = np.power(phi,2)\n",
    "    theta_prop = np.zeros((M,3))\n",
    "    theta_prop[:,0] = np.power(phi,2)\n",
    "    alpha = np.zeros((M,))\n",
    "    alpha_accepted = np.zeros((M,))\n",
    "    z = np.zeros((M+1,))\n",
    "    \n",
    "    # Initial state\n",
    "    theta[0,1:] = theta_init   \n",
    "    z[0] = loglik_bpf(y,N,theta[0,:])\n",
    "        \n",
    "    # Iterate the chain\n",
    "    t = tqdm_notebook(range(M))\n",
    "    for i in t:\n",
    "        # Sample a new value\n",
    "        theta_prop[i,1:] = theta[i,1:]+np.random.multivariate_normal(mean=np.zeros(2),cov=Sigma)\n",
    "      \n",
    "        # Sample to be compared to the acceptance probability\n",
    "        u = stats.uniform.rvs()\n",
    "        \n",
    "        # Acceptance probability    \n",
    "        if ((theta_prop[i,1] > 0.0) & (theta_prop[i,2] > 0.0)):\n",
    "            z_prop = loglik_bpf(y, N, np.power(theta_prop[i,:],1/2))\n",
    "            \n",
    "            # Compute the ratio between the prior distributions (in log-form)\n",
    "            prior  = invgamma_logpdf(np.power(theta_prop[i,1],1),a,b) \n",
    "            prior -= invgamma_logpdf(np.power(theta[i,1],1),a,b)\n",
    "\n",
    "            prior += invgamma_logpdf(np.power(theta_prop[i,2],1),a,b) \n",
    "            prior -= invgamma_logpdf(np.power(theta[i,2],1),a,b)   \n",
    "            \n",
    "            # Compute the acceptance probability\n",
    "            alpha[i] = np.min((1.0, np.exp(prior+z_prop-z[i])))\n",
    "            alpha[i] *= theta_prop[i,2] > 0.0\n",
    "            alpha[i] *= theta_prop[i,2] > 0.0\n",
    "            \n",
    "        # Set next state depending on acceptance probability\n",
    "        if u <= alpha[i]:\n",
    "            z[i+1] = z_prop\n",
    "            theta[i+1,:] = theta_prop[i,:]\n",
    "            alpha_accepted[i] = 1\n",
    "        else:\n",
    "            z[i+1] = z[i]\n",
    "            theta[i+1,:] = theta[i,:]\n",
    "            \n",
    "        t.set_postfix({'a_mean': np.mean(alpha[:(i)]),'a_acc_mean':np.mean(alpha_accepted[:(i)])})\n",
    "            \n",
    "    return theta, alpha\n"
   ]
  },
  {
   "cell_type": "markdown",
   "metadata": {},
   "source": [
    "Iterate PMH chain"
   ]
  },
  {
   "cell_type": "code",
   "execution_count": 72,
   "metadata": {
    "collapsed": false
   },
   "outputs": [],
   "source": [
    "M = 15000\n",
    "burn_in = 2500\n",
    "theta_init = [0.2**2,0.9**2]\n",
    "Sigma = np.diag((0.02**4, 0.09**4))\n",
    "N = 500\n",
    "theta, alpha = particle_metropolis_hastings(y,theta_init,M,N,Sigma)"
   ]
  },
  {
   "cell_type": "markdown",
   "metadata": {},
   "source": [
    "Get estimates"
   ]
  },
  {
   "cell_type": "code",
   "execution_count": 73,
   "metadata": {
    "collapsed": false
   },
   "outputs": [
    {
     "name": "stdout",
     "output_type": "stream",
     "text": [
      "0.0112908138487\n",
      "0.926701413794\n",
      "0.104755942545\n",
      "0.960847509914\n"
     ]
    },
    {
     "data": {
      "image/png": "[encoded data removed]",
      "text/plain": [
       "<matplotlib.figure.Figure at 0x2114fba8>"
      ]
     },
     "metadata": {},
     "output_type": "display_data"
    }
   ],
   "source": [
    "fig, ax = plt.subplots(1,2)\n",
    "\n",
    "ax[0].hist(np.power(theta[burn_in:M,1],2/2), normed=True, bins=50,facecolor='#7570B3');\n",
    "ax[0].axvline(np.mean(np.power(theta[burn_in:M,1],2/2)), linewidth=1.5, color='red')\n",
    "\n",
    "ax[1].hist(np.power(theta[burn_in:M,2],2/2), normed=True, bins=50,facecolor='#7570B3');\n",
    "ax[1].axvline(np.mean(np.power(theta[burn_in:M,2],2/2)), linewidth=1.5, color='red')\n",
    "\n",
    "print(np.mean(np.power(theta[burn_in:M,1],2/2)))\n",
    "print(np.mean(np.power(theta[burn_in:M,2],2/2)))\n",
    "\n",
    "print(np.mean(np.power(theta[burn_in:M,1],1/2)))\n",
    "print(np.mean(np.power(theta[burn_in:M,2],1/2)))\n",
    "\n",
    "fig.set_size_inches(6, 2)\n",
    "plt.tight_layout()\n",
    "fig.savefig('hist_svm.pdf')"
   ]
  },
  {
   "cell_type": "markdown",
   "metadata": {},
   "source": [
    "Log-likelihood in function of $\\sigma$."
   ]
  },
  {
   "cell_type": "code",
   "execution_count": null,
   "metadata": {
    "collapsed": true
   },
   "outputs": [],
   "source": [
    "def simulate(N=500, T=500, resample=True):\n",
    "    ll = []\n",
    "    sigma_count = len(np.arange(0.06, 0.3, 0.025))\n",
    "    theta = [0.985,float('nan'),0.9534];\n",
    "    for sigma in np.arange(0.06,0.3,0.025):\n",
    "        theta[1] = sigma;\n",
    "        for i in range(10):\n",
    "            ll.append(loglik_bpf(y[:T], N, theta, resample))\n",
    "\n",
    "    ll = np.transpose(np.reshape(ll, (sigma_count, 10)))\n",
    "    \n",
    "    return ll"
   ]
  },
  {
   "cell_type": "code",
   "execution_count": null,
   "metadata": {
    "collapsed": true
   },
   "outputs": [],
   "source": [
    "fig, ax = plt.subplots(figsize=(6, 2))\n",
    "plt.tight_layout()\n",
    "\n",
    "ax.boxplot(simulate(500, 500), labels=np.arange(0.06,0.3, 0.025));\n",
    "fig.savefig('ll_pmh_sig.pdf')"
   ]
  },
  {
   "cell_type": "markdown",
   "metadata": {},
   "source": [
    "Log-likelihood in function of $\\beta$."
   ]
  },
  {
   "cell_type": "code",
   "execution_count": null,
   "metadata": {
    "collapsed": true
   },
   "outputs": [],
   "source": [
    "def simulate(N=500, T=500, resample=True):\n",
    "    ll = []\n",
    "    beta_count = len(np.arange(0.6, 1.2, 0.05))\n",
    "    theta = [0.985,0.1143,float('nan')];\n",
    "    for beta in np.arange(0.6,1.2,0.05):\n",
    "        theta[2] = beta;\n",
    "        for i in range(10):\n",
    "            ll.append(loglik_bpf(y[:T], N, theta, resample))\n",
    "\n",
    "    ll = np.transpose(np.reshape(ll, (beta_count, 10)))\n",
    "    \n",
    "    return ll"
   ]
  },
  {
   "cell_type": "code",
   "execution_count": null,
   "metadata": {
    "collapsed": true
   },
   "outputs": [],
   "source": [
    "fig, ax = plt.subplots(figsize=(6, 2))\n",
    "plt.tight_layout()\n",
    "\n",
    "ax.boxplot(simulate(500, 500), labels=np.arange(0.6,1.2, 0.05));\n",
    "fig.savefig('ll_pmh_beta.pdf')"
   ]
  },
  {
   "cell_type": "code",
   "execution_count": null,
   "metadata": {
    "collapsed": true
   },
   "outputs": [],
   "source": [
    "fig, ax = plt.subplots(figsize=(6, 2))\n",
    "plt.tight_layout()\n",
    "\n",
    "ax.boxplot;"
   ]
  }
 ],
 "metadata": {
  "kernelspec": {
   "display_name": "Python 2",
   "language": "python",
   "name": "python2"
  },
  "language_info": {
   "codemirror_mode": {
    "name": "ipython",
    "version": 2
   },
   "file_extension": ".py",
   "mimetype": "text/x-python",
   "name": "python",
   "nbconvert_exporter": "python",
   "pygments_lexer": "ipython2",
   "version": "2.7.9"
  }
 },
 "nbformat": 4,
 "nbformat_minor": 0
}
